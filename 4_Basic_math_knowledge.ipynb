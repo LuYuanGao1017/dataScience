{
 "cells": [
  {
   "cell_type": "code",
   "execution_count": 2,
   "metadata": {},
   "outputs": [
    {
     "name": "stdout",
     "output_type": "stream",
     "text": [
      "(3,)\n",
      "(3, 1000)\n",
      "0.0 seconds to run 10000 movies\n",
      "0.0009772777557373047 seconds to run 100000 movies\n",
      "0.004771709442138672 seconds to run 1000000 movies\n",
      "0.04238009452819824 seconds to run 10000000 movies\n",
      "0.4476289749145508 seconds to run 100000000 movies\n"
     ]
    }
   ],
   "source": [
    "import numpy as np\n",
    "\n",
    "# create user preferences\n",
    "user_pref = np.array([5, 1, 3])\n",
    "\n",
    "# create a random movie matrix of 10,000 movies\n",
    "movies = np.random.randint(5,size=(3,1000))+1\n",
    "\n",
    "# Note that the randint will make random integers from 0-4\n",
    "# so I added a 1 at the end to increase the scale from 1-5\n",
    "\n",
    "print(user_pref.shape) # (1, 3)\n",
    "\n",
    "print(movies.shape)    # (3, 1000)\n",
    "\n",
    "# np.dot does both dot products and matrix multiplication\n",
    "recs = np.dot(user_pref, movies)\n",
    "\n",
    "import time\n",
    "\n",
    "for i in (10000, 100000, 1000000, 10000000, 100000000):\n",
    "    movies = np.random.randint(5,size=(3,i))+1\n",
    "    now = time.time()\n",
    "    np.dot(user_pref, movies)\n",
    "    print ((time.time() - now), \"seconds to run\", i, \"movies\")\n"
   ]
  }
 ],
 "metadata": {
  "kernelspec": {
   "display_name": "pytgpu",
   "language": "python",
   "name": "python3"
  },
  "language_info": {
   "codemirror_mode": {
    "name": "ipython",
    "version": 3
   },
   "file_extension": ".py",
   "mimetype": "text/x-python",
   "name": "python",
   "nbconvert_exporter": "python",
   "pygments_lexer": "ipython3",
   "version": "3.8.16"
  },
  "orig_nbformat": 4
 },
 "nbformat": 4,
 "nbformat_minor": 2
}
